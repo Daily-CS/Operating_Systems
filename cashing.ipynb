{
 "cells": [
  {
   "cell_type": "markdown",
   "source": [
    "# 캐시의 지역성\n"
   ],
   "metadata": {
    "collapsed": false
   }
  },
  {
   "cell_type": "markdown",
   "source": [
    "**캐시 메모리** 는 CPU의 처리 속도와 메모리의 속도 차이로 인한 병목현상을 완화하기 위해 사용하는 고속 버퍼 메모리이므로 CPU가 어떤 데이터를 원할 것인가를 어느 정도 예측해야 한다.\n",
    "왜냐햐면, 캐시의 성능은 작은 용량의 캐시 메모리에 CPU가 이후에 참조할,쓸모 있는 정보가 어느 정도 들어있느냐에 따라 좌우되기 때문이다.\n",
    "\n",
    "<br>\n",
    "\n",
    "주기억장치에 있는 데이터를 엑세스하려면 비교적 오랜 시간이 걸리게 되는데 이를 줄이기 위해서 데이터를 빠르게 엑세스할 수 있도록 중간에 캐시 메모리를 두는 것이다.\n",
    "주기억장치 내에서 자주 읽고 쓰는 데이터의 일부를 캐시 메모리에 불러와 속도 차이를 줄이고, 주기억장치와 CPU간 신호 교환에 이용되는 Memory Bandwidth를 I/O 사용에 집중할 수 있게 만든다.\n",
    "\n",
    "<br>\n",
    "\n",
    "\n",
    "캐시 메모리는 *적중률(Hit rate)* 을 극대화하기 위해 데이터 *지역성의 원리* 를 사용하므로 지역성의 전제조건으로 프로그램은 모든 코드나 데이터를 균등하게 엑세스하지 않는다는 특성을 기본으로 한다.\n",
    "\n",
    "즉, *지역성*이란 기억 장치 내의 정보를 균일하게 엑세스하는 것이 아닌 어느 한순간에 특정 부분을 집중적으로 참조하는 특성이다.\n",
    "\n",
    "<br>\n",
    "\n",
    "\n"
   ],
   "metadata": {
    "collapsed": false
   }
  },
  {
   "cell_type": "markdown",
   "source": [
    "**데이터 지역성**은 대표적으로 시간적 지역성, 공간적 지역성, 순차적 지역성으로 나뉩니다.\n",
    "\n",
    "- 시간적 지역성: CPU가 한 번 참조한 데이터는 다시 참조할 가능성이 높다.\n",
    "- 공간적 지역성: CPU가 참조한 데이터와 인접한 데이터 역시 참조될 가능성이 높다.\n",
    "- 순차적 지역성: 분기가 발생하지 않는 한 명령어는 메모리에 저장된 순서대로 인출/실행된다.\n",
    "\n",
    "*지역성은 어디까지나 경향에 대한 것이지 항상 캐시의 높은 적중률을 보장해 주지는 않는다.**\n",
    "\n",
    "<br>\n",
    "\n",
    "**적중률(Hit rate)**\n",
    "\n",
    ">캐시 메모리가 있는 컴퓨터 시스템은 CPU가 메모리에 접근하기 전 먼저 캐시 메모리에서 원하는 데이터의 존재 여부를 확인하는데, 이때 필요한 데이터가 있는 경우를 적중(hit), 없는 경우를 실패(miss)라고 하는데,\n",
    "요청한 데이터를 캐시 메모리에서 찾을 확률을 적중률 이라고 한다.\n",
    "\n",
    "적중률 = 캐시 메모리의 적중 횟수 / 전체 메모리의 참조 횟수"
   ],
   "metadata": {
    "collapsed": false
   }
  },
  {
   "cell_type": "markdown",
   "source": [
    "### AMAT(Average Memory Access Time: 평균 메모리 엑세스 시간)\n",
    "\n",
    "CPU가 주기억장치 메모리에 접근하기 전에 캐시 메모리에서 원하는 데이터 존재 여부를 확인하는데, 이때 필요한 데이터가 있는 경우 Hit(적중), 없는 경우 Miss(실패)라고 합니다.\n",
    "\n",
    "**CPU의 데이터 가져오기**\n",
    "\n",
    "레지스터 -> L1 캐시(SRAM) -> L2 캐시-> 주기억장치(DRAM)-> 보조기억장치(EEPROM)\n",
    "\n",
    "<br>\n",
    "\n",
    "- 캐시적증\n",
    "> 캐시 메모리의 데이터를 CPU 레지스터에 복사합니다.\n",
    "\n",
    "- 캐시 실패&주기억장치 적중\n",
    ">주기억장치 메모리의 데이터를 캐시 메모리에 복사하고,캐시 메모리에 복제되 데이터를 CPU 레지스터에 복사합니다.\n",
    "\n",
    "- 캐시 실패 & 주기억장치 실패\n",
    ">보조기억장치 메모리의 데이터를 주기억장치에 메모리에 복사하고, 주기억장치 메모리에 복제된 데이터를 캐시 메모리에 복사하고 복제된 데이터를 CPU 레지스터에 복사합니다.\n",
    "\n",
    "<br>\n",
    "\n",
    "**평균 메모리 엑세스 시간 구하기**\n",
    "\n",
    "AMAT = Hit Ratio * Hit Time + Miss Ration * Miss Penalty\n",
    "     = (1-Miss Ratio) * Hit Time + Miss Ratio *(Hit Time + Miss Penalty)\n",
    "     = Hit Time + Miss Ratio * Miss Penalty(:Miss가 발생했을 때, 현재 처리하고 있는 동작에 stall[pipeline stage]에서 진행하지 않고 멈추는 것)을 걸고, instruction을 수행하게 되는데 이때 해당 데이터를 대체하는데 걸리는 시간\n",
    "\n"
   ],
   "metadata": {
    "collapsed": false
   }
  },
  {
   "cell_type": "markdown",
   "source": [
    "### 캐싱 라인(Caching Line)\n",
    "\n",
    "캐시는 프로세서 가까이에 위치하면서 빈번하게 사용되는 데이터를 놔두는 장소로 캐시가 아무리 가까이 있더라도 찾고자 하는 데이터가 어느 곳에 저장되어 있는지몰라서 모든 데이터를 순회해야 한다면 시간이 오래 걸리게 된다.\n",
    "\n",
    "캐시에 목적 데이터가 저장되어 있다면 바로 접근하여 출력할 수 있어야 캐시가 의미가 있어지는 것이므로 캐시에 데이터를 저장할 때 특정 자료구조를 사용하여 묶음으로 저장하는데 이름 캐싱 라인이라고 말한다.\n",
    "\n",
    "다양한 주소에 있는 데이터를 사용하므로 빈번하게 사용하는 데이터 둔 태그를 달아놓을 필요가 있고, 이러한 태그들의 묶음을 캐싱 라인이라고 하고 메모리로부터 가져올 때도 캐싱 라인을 기준으로 가져온다.\n",
    "\n",
    "대표적인 종류는 Full Associative, Set Associative, Direct Map\n",
    "\n",
    "<br>\n",
    "\n",
    "**구성 요소**\n",
    "\n",
    "*Tag*\n",
    "\n",
    "- 메모리와 캐시 메모리 간 mapping\n",
    "- Instruction Address의 상위 Bit면서 Virtual Memory Address의 상위 bit\n",
    "\n",
    "*Data*\n",
    "\n",
    "- 캐시 메모리가 가지고 있는 데이터\n",
    "\n",
    "*Valid bit*\n",
    "\n",
    "- Miss시 0으로 표시한다.\n",
    "- Invalidation Protocol에서 사용\n",
    "\n",
    "*Dirty bit*\n",
    "\n",
    "- 어떤 block에 쓰기 동작이 일어났을 때, 메모리와 일관성이 유지되지 않는 상태를 표시"
   ],
   "metadata": {
    "collapsed": false
   }
  }
 ],
 "metadata": {
  "kernelspec": {
   "display_name": "Python 3",
   "language": "python",
   "name": "python3"
  },
  "language_info": {
   "codemirror_mode": {
    "name": "ipython",
    "version": 2
   },
   "file_extension": ".py",
   "mimetype": "text/x-python",
   "name": "python",
   "nbconvert_exporter": "python",
   "pygments_lexer": "ipython2",
   "version": "2.7.6"
  }
 },
 "nbformat": 4,
 "nbformat_minor": 0
}
